{
 "cells": [
  {
   "cell_type": "code",
   "execution_count": 1,
   "metadata": {
    "collapsed": false
   },
   "outputs": [],
   "source": [
    "import random\n",
    "import matplotlib.pyplot as plt\n",
    "%matplotlib inline"
   ]
  },
  {
   "cell_type": "code",
   "execution_count": 2,
   "metadata": {
    "collapsed": true
   },
   "outputs": [],
   "source": [
    "class Packet:\n",
    "    def __init__(self, pkt_number,pkt_sent, ack_rcvd, time_ack_expected):\n",
    "        self.pkt_number = pkt_number\n",
    "        self.pkt_sent = pkt_sent\n",
    "        self.ack_rcvd = ack_rcvd\n",
    "        self.time_ack_expected = time_ack_expected"
   ]
  },
  {
   "cell_type": "code",
   "execution_count": 3,
   "metadata": {
    "collapsed": true
   },
   "outputs": [],
   "source": [
    "def send_packet(packet, current_time, pkt_time):\n",
    "    packet.pkt_sent = current_time\n",
    "    packet.time_ack_expected = current_time + pkt_time\n",
    "    return packet"
   ]
  },
  {
   "cell_type": "code",
   "execution_count": 4,
   "metadata": {
    "collapsed": true
   },
   "outputs": [],
   "source": [
    "pkt_time = 20"
   ]
  },
  {
   "cell_type": "code",
   "execution_count": 5,
   "metadata": {
    "collapsed": true
   },
   "outputs": [],
   "source": [
    "def get_packet(pkt_number):\n",
    "    packet = Packet(pkt_number, -1,False,-1)\n",
    "    return packet"
   ]
  },
  {
   "cell_type": "code",
   "execution_count": 6,
   "metadata": {
    "collapsed": false
   },
   "outputs": [],
   "source": [
    "def update_window(packets, current_time,last_pkt_number, x):\n",
    "    for packet in packets:\n",
    "        if packet.time_ack_expected == current_time:\n",
    "            if random.uniform(0,1) > x:\n",
    "                packet.ack_rcvd = True\n",
    "            else:\n",
    "                send_packet(packet, current_time, pkt_time)\n",
    "        if packet.pkt_sent == -1:\n",
    "            send_packet(packet, current_time + packets.index(packet), pkt_time)\n",
    "    first_rcvd = packets[0].ack_rcvd\n",
    "    while(first_rcvd):\n",
    "        packets.remove(packets[0])\n",
    "        packets.append(get_packet(last_pkt_number))\n",
    "        last_pkt_number += 1\n",
    "        first_rcvd = packets[0].ack_rcvd\n",
    "    return last_pkt_number"
   ]
  },
  {
   "cell_type": "code",
   "execution_count": 7,
   "metadata": {
    "collapsed": false
   },
   "outputs": [],
   "source": [
    "#errors = [1/10.0,1/1000.0]\n",
    "errors = [1/100.0]\n",
    "N = 100000\n",
    "tputs = []\n",
    "for e in errors:\n",
    "    window_sizes = range(4,100)\n",
    "    pkt_count = []\n",
    "    for window_size in window_sizes:\n",
    "        window_start = 0\n",
    "        packets = []\n",
    "        for i in range(0, window_size):\n",
    "            packets.append(get_packet(i))\n",
    "            send_packet(packets[i], i, pkt_time)\n",
    "        #j = window_start + window_size\n",
    "        #i = j\n",
    "        i = 0\n",
    "        last_pkt_number = window_size\n",
    "        while i < N:\n",
    "            last_pkt_number = update_window(packets,i, last_pkt_number, e)\n",
    "            i += 1\n",
    "        pkt_count += [last_pkt_number / (N - e * N)]\n",
    "    tputs.append(pkt_count)"
   ]
  },
  {
   "cell_type": "code",
   "execution_count": 9,
   "metadata": {
    "collapsed": false
   },
   "outputs": [
    {
     "data": {
      "image/png": "[encoded data removed]",
      "text/plain": [
       "<matplotlib.figure.Figure at 0x7ff871090510>"
      ]
     },
     "metadata": {},
     "output_type": "display_data"
    }
   ],
   "source": [
    "plt.plot(window_sizes, tputs[0])\n",
    "#plt.plot(window_sizes, tputs[1])\n",
    "plt.xlabel(\"Window Size\")\n",
    "plt.ylabel(\"Throughput\")\n",
    "plt.title(\"Window Size vs Throughput for SRP Sliding Window\")\n",
    "plt.legend(['e = 1 in 100', 'e = 1 in 1000'], loc='upper left')\n",
    "\n",
    "plt.show()"
   ]
  },
  {
   "cell_type": "code",
   "execution_count": null,
   "metadata": {
    "collapsed": true
   },
   "outputs": [],
   "source": []
  }
 ],
 "metadata": {
  "kernelspec": {
   "display_name": "Python 2",
   "language": "python",
   "name": "python2"
  },
  "language_info": {
   "codemirror_mode": {
    "name": "ipython",
    "version": 2
   },
   "file_extension": ".py",
   "mimetype": "text/x-python",
   "name": "python",
   "nbconvert_exporter": "python",
   "pygments_lexer": "ipython2",
   "version": "2.7.6"
  }
 },
 "nbformat": 4,
 "nbformat_minor": 0
}
