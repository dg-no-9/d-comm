{
 "cells": [
  {
   "cell_type": "code",
   "execution_count": 11,
   "metadata": {
    "collapsed": true
   },
   "outputs": [],
   "source": [
    "import random\n",
    "import pylab as pl"
   ]
  },
  {
   "cell_type": "code",
   "execution_count": 22,
   "metadata": {
    "collapsed": true
   },
   "outputs": [],
   "source": [
    "import matplotlib.pyplot as plt\n",
    "%matplotlib inline"
   ]
  },
  {
   "cell_type": "code",
   "execution_count": 59,
   "metadata": {
    "collapsed": false
   },
   "outputs": [],
   "source": [
    "N = 100000"
   ]
  },
  {
   "cell_type": "code",
   "execution_count": 60,
   "metadata": {
    "collapsed": false
   },
   "outputs": [],
   "source": [
    "numbers  = [random.uniform(0,1) for i in range(N)]"
   ]
  },
  {
   "cell_type": "code",
   "execution_count": 61,
   "metadata": {
    "collapsed": false
   },
   "outputs": [],
   "source": [
    "sorted_numbers = sorted(numbers)"
   ]
  },
  {
   "cell_type": "code",
   "execution_count": 62,
   "metadata": {
    "collapsed": false
   },
   "outputs": [],
   "source": [
    "G = pl.frange(0.1, 2, 0.1)\n",
    "tputs = []\n",
    "for x in G:\n",
    "    count = 0\n",
    "    for i in range(1, len(sorted_numbers) - 1):\n",
    "        tp = sorted_numbers[i-1]\n",
    "        tn = sorted_numbers[i+1]\n",
    "        t = sorted_numbers[i]\n",
    "        if t- tp > x/N and tn - t > x/N:\n",
    "            count = count + 1\n",
    "    tputs.append(count * x / N)"
   ]
  },
  {
   "cell_type": "code",
   "execution_count": 63,
   "metadata": {
    "collapsed": false
   },
   "outputs": [
    {
     "data": {
      "image/png": "[encoded data removed]",
      "text/plain": [
       "<matplotlib.figure.Figure at 0x7f491d14c510>"
      ]
     },
     "metadata": {},
     "output_type": "display_data"
    }
   ],
   "source": [
    "plt.plot(G, tputs)\n",
    "plt.xlabel(\"G\")\n",
    "plt.ylabel(\"Throughput\")\n",
    "plt.title(\"G vs Throughput for ALOHA\")\n",
    "plt.show()"
   ]
  },
  {
   "cell_type": "code",
   "execution_count": 123,
   "metadata": {
    "collapsed": false
   },
   "outputs": [],
   "source": [
    "N = 10000\n",
    "sorted_numbers = sorted([random.uniform(0,1) for i in range(N)])\n",
    "G = pl.frange(0.1, 2.0, 0.1)\n",
    "#G = [0.8,0.9,1.0,1.1]\n",
    "tputs = []\n",
    "for x in G:\n",
    "    count = 0\n",
    "    slots = pl.frange(0,1, x/N)\n",
    "    for i in range(0, len(slots)-1):\n",
    "        pkt_per_slot = 0;\n",
    "        #print sorted_numbers\n",
    "        for packet in sorted_numbers:\n",
    "            if packet > slots[i] and packet < slots[i+1]:\n",
    "                pkt_per_slot = pkt_per_slot + 1\n",
    "            if packet > slots[i + 1]:\n",
    "                break;\n",
    "        #print pkt_per_slot\n",
    "        if pkt_per_slot == 1:\n",
    "            count = count + 1\n",
    "    #print count\n",
    "    tputs.append(count * x / N)"
   ]
  },
  {
   "cell_type": "code",
   "execution_count": 124,
   "metadata": {
    "collapsed": false
   },
   "outputs": [
    {
     "data": {
      "image/png": "[encoded data removed]",
      "text/plain": [
       "<matplotlib.figure.Figure at 0x7f491a77b3d0>"
      ]
     },
     "metadata": {},
     "output_type": "display_data"
    }
   ],
   "source": [
    "plt.plot(G, tputs)\n",
    "plt.xlabel(\"G\")\n",
    "plt.ylabel(\"Throughput\")\n",
    "plt.title(\"G vs Throughput for Slotted ALOHA\")\n",
    "plt.show()"
   ]
  },
  {
   "cell_type": "code",
   "execution_count": null,
   "metadata": {
    "collapsed": true
   },
   "outputs": [],
   "source": []
  }
 ],
 "metadata": {
  "kernelspec": {
   "display_name": "Python 2",
   "language": "python",
   "name": "python2"
  },
  "language_info": {
   "codemirror_mode": {
    "name": "ipython",
    "version": 2
   },
   "file_extension": ".py",
   "mimetype": "text/x-python",
   "name": "python",
   "nbconvert_exporter": "python",
   "pygments_lexer": "ipython2",
   "version": "2.7.6"
  }
 },
 "nbformat": 4,
 "nbformat_minor": 0
}
